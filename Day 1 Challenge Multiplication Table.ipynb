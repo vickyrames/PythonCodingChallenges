{
 "cells": [
  {
   "cell_type": "code",
   "execution_count": 3,
   "id": "3b94f4f6",
   "metadata": {},
   "outputs": [
    {
     "name": "stdout",
     "output_type": "stream",
     "text": [
      "Enter a number ....18\n",
      "18 * 1 = 18\n",
      "18 * 2 = 36\n",
      "18 * 3 = 54\n",
      "18 * 4 = 72\n",
      "18 * 5 = 90\n",
      "18 * 6 = 108\n",
      "18 * 7 = 126\n",
      "18 * 8 = 144\n",
      "18 * 9 = 162\n",
      "18 * 10 = 180\n",
      "18 * 11 = 198\n",
      "18 * 12 = 216\n"
     ]
    }
   ],
   "source": [
    "# Receive the input from user\n",
    "num = int(input(\"Enter a number ....\"))\n",
    "\n",
    "for i in range(1,13):\n",
    "    print( num, '*', i , '=', num * i)"
   ]
  },
  {
   "cell_type": "code",
   "execution_count": null,
   "id": "f8b28156",
   "metadata": {},
   "outputs": [],
   "source": []
  }
 ],
 "metadata": {
  "kernelspec": {
   "display_name": "Python 3",
   "language": "python",
   "name": "python3"
  },
  "language_info": {
   "codemirror_mode": {
    "name": "ipython",
    "version": 3
   },
   "file_extension": ".py",
   "mimetype": "text/x-python",
   "name": "python",
   "nbconvert_exporter": "python",
   "pygments_lexer": "ipython3",
   "version": "3.8.8"
  }
 },
 "nbformat": 4,
 "nbformat_minor": 5
}
