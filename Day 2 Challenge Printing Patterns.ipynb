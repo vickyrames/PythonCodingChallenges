{
 "cells": [
  {
   "cell_type": "code",
   "execution_count": 1,
   "id": "ee5272c9",
   "metadata": {},
   "outputs": [],
   "source": [
    "# Double sided stair case"
   ]
  },
  {
   "cell_type": "code",
   "execution_count": 14,
   "id": "63359885",
   "metadata": {},
   "outputs": [
    {
     "name": "stdout",
     "output_type": "stream",
     "text": [
      " *   *  \n",
      " *   *   *  \n",
      " *   *   *   *  \n",
      " *   *   *   *   *  \n",
      " *   *   *   *   *   *  \n",
      " *   *   *   *   *   *   *  \n",
      " *   *   *   *   *   *   *   *  \n",
      " *   *   *   *   *   *   *   *   *  \n",
      " *   *   *   *   *   *   *   *   *   *  \n",
      " *   *   *   *   *   *   *   *   *   *   *  \n"
     ]
    }
   ],
   "source": [
    "for i in range(1,11):\n",
    "    for j in range(0,i+1):\n",
    "        print(end=' ')\n",
    "        print(\"* \",end=' ')\n",
    "    print()"
   ]
  },
  {
   "cell_type": "code",
   "execution_count": 18,
   "id": "16b1cace",
   "metadata": {},
   "outputs": [
    {
     "name": "stdout",
     "output_type": "stream",
     "text": [
      "                 *   * \n",
      "                 *   * \n",
      "             *   *   *   * \n",
      "             *   *   *   * \n",
      "         *   *   *   *   *   * \n",
      "         *   *   *   *   *   * \n",
      "     *   *   *   *   *   *   *   * \n",
      "     *   *   *   *   *   *   *   * \n",
      " *   *   *   *   *   *   *   *   *   * \n",
      " *   *   *   *   *   *   *   *   *   * \n"
     ]
    }
   ],
   "source": [
    "n= 10\n",
    "for i in range(1,n+1):\n",
    "  \n",
    "        # conditional operator\n",
    "        k =i + 1 if(i % 2 != 0) else i\n",
    "  \n",
    "        # for loop for printing spaces\n",
    "        for g in range(k,n):\n",
    "            if g>=k:\n",
    "                print(end=\"  \")\n",
    "  \n",
    "        # according to value of k carry\n",
    "        # out further operation\n",
    "        for j in range(0,k):\n",
    "            if j == k - 1:\n",
    "                print(\" * \")\n",
    "            else:\n",
    "                print(\" * \", end = \" \")"
   ]
  },
  {
   "cell_type": "code",
   "execution_count": null,
   "id": "dd56e474",
   "metadata": {},
   "outputs": [],
   "source": []
  }
 ],
 "metadata": {
  "kernelspec": {
   "display_name": "Python 3",
   "language": "python",
   "name": "python3"
  },
  "language_info": {
   "codemirror_mode": {
    "name": "ipython",
    "version": 3
   },
   "file_extension": ".py",
   "mimetype": "text/x-python",
   "name": "python",
   "nbconvert_exporter": "python",
   "pygments_lexer": "ipython3",
   "version": "3.8.8"
  }
 },
 "nbformat": 4,
 "nbformat_minor": 5
}
